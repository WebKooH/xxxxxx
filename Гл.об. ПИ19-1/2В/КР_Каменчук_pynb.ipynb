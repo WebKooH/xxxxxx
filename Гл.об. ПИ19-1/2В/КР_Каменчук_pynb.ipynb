{
  "nbformat": 4,
  "nbformat_minor": 0,
  "metadata": {
    "colab": {
      "provenance": []
    },
    "kernelspec": {
      "name": "python3",
      "display_name": "Python 3"
    },
    "language_info": {
      "name": "python"
    }
  },
  "cells": [
    {
      "cell_type": "markdown",
      "source": [
        "# Вариант 2"
      ],
      "metadata": {
        "id": "wVf0LqOAVfyl"
      }
    },
    {
      "cell_type": "markdown",
      "source": [
        "Загрузить файлы и информацией о лицах, перевести в тензорный формат и построить модель классификации."
      ],
      "metadata": {
        "id": "EYbUYVYxVjZP"
      }
    },
    {
      "cell_type": "code",
      "source": [
        "import matplotlib.pyplot as plt\n",
        "from torchvision import datasets, transforms\n",
        "import torchvision\n",
        "import torch\n",
        "import torch.nn as nn\n",
        "import torch.optim as optim\n",
        "from torch.utils.data import Dataset, DataLoader, random_split\n",
        "import torch.nn.functional as F\n",
        "import numpy as np\n",
        "from sklearn.metrics import confusion_matrix"
      ],
      "metadata": {
        "id": "1xmGKKN6ipVo"
      },
      "execution_count": 104,
      "outputs": []
    },
    {
      "cell_type": "code",
      "source": [
        "import numpy as np\n",
        "from PIL import Image\n",
        "\n",
        "images = np.load('/content/drive/MyDrive/ML/кр/olivetti_faces.npy') # при необходимости укажите свой \n",
        "target = np.load('/content/drive/MyDrive/ML/кр/olivetti_faces_target.npy') # при необходимости укажите свой "
      ],
      "metadata": {
        "id": "splc8ZWeViZl"
      },
      "execution_count": 105,
      "outputs": []
    },
    {
      "cell_type": "markdown",
      "source": [
        "Выведем форму произвольного изображения:"
      ],
      "metadata": {
        "id": "I0dfJ3RjVvFd"
      }
    },
    {
      "cell_type": "code",
      "source": [
        "images[359].shape"
      ],
      "metadata": {
        "colab": {
          "base_uri": "https://localhost:8080/"
        },
        "id": "xVDUdg2gV27F",
        "outputId": "827284d1-f849-4e60-ebc8-544d33c19505"
      },
      "execution_count": 106,
      "outputs": [
        {
          "output_type": "execute_result",
          "data": {
            "text/plain": [
              "(64, 64)"
            ]
          },
          "metadata": {},
          "execution_count": 106
        }
      ]
    },
    {
      "cell_type": "markdown",
      "source": [
        "Выведем произвольное изображение из датасета"
      ],
      "metadata": {
        "id": "Z53Y6hBGWNOm"
      }
    },
    {
      "cell_type": "code",
      "source": [
        "im = Image.fromarray(images[359] * 256)\n",
        "new_im = im.convert('RGB')\n",
        "\n",
        "display(new_im)"
      ],
      "metadata": {
        "colab": {
          "base_uri": "https://localhost:8080/",
          "height": 81
        },
        "id": "RwGVdoR4WJyF",
        "outputId": "bc220623-ebee-40c0-a988-38ed026ee429"
      },
      "execution_count": 107,
      "outputs": [
        {
          "output_type": "display_data",
          "data": {
            "text/plain": [
              "<PIL.Image.Image image mode=RGB size=64x64 at 0x7F346D99ACD0>"
            ],
            "image/png": "[encoded data removed]"
          },
          "metadata": {}
        }
      ]
    },
    {
      "cell_type": "code",
      "source": [
        "# X=images.reshape((images.shape[0],images.shape[1]*images.shape[2]))\n",
        "# print(\"X shape:\",X.shape)"
      ],
      "metadata": {
        "colab": {
          "base_uri": "https://localhost:8080/"
        },
        "id": "HjwvOxDYv_wI",
        "outputId": "3f05cfff-386c-4a46-ce25-207c11830f1f"
      },
      "execution_count": 6,
      "outputs": [
        {
          "output_type": "stream",
          "name": "stdout",
          "text": [
            "X shape: (400, 4096)\n"
          ]
        }
      ]
    },
    {
      "cell_type": "code",
      "source": [
        "class Dataset_(Dataset):\n",
        "  def __init__(self, X, y):\n",
        "    self.X = X\n",
        "    self.y = y\n",
        "\n",
        "  def __len__(self):\n",
        "    return len(self.X)\n",
        "\n",
        "  def __getitem__(self, idx):\n",
        "    X = self.X[idx]\n",
        "    y = self.y[idx]\n",
        "    return X, y"
      ],
      "metadata": {
        "id": "U3Up3Y2E0D9E"
      },
      "execution_count": 108,
      "outputs": []
    },
    {
      "cell_type": "code",
      "source": [
        "from sklearn.model_selection import train_test_split\n",
        "import torch\n",
        "\n",
        "# data = images.reshape(images.shape[0], images.shape[1] * images.shape[2])     # 64 X 64 = 4096\n",
        "\n",
        "X_train, X_test, y_train, y_test = train_test_split(images, target, test_size=.2, random_state=0)\n",
        "\n",
        "batch_size = 50\n",
        "\n",
        "train_set = Dataset_(X_train, y_train)\n",
        "test_set = Dataset_(X_test, y_test)\n",
        "\n",
        "train_set[0]\n",
        "\n",
        "\n",
        "train_loader = torch.utils.data.DataLoader(train_set, \n",
        "                                          batch_size=batch_size,\n",
        "                                          shuffle=True)\n",
        "test_loader = torch.utils.data.DataLoader(test_set, \n",
        "                                         batch_size=batch_size,\n",
        "                                         shuffle=False)"
      ],
      "metadata": {
        "id": "HomNDimfgvV0"
      },
      "execution_count": 109,
      "outputs": []
    },
    {
      "cell_type": "code",
      "source": [
        "display(len(np.unique(target)))\n",
        "np.unique(target)"
      ],
      "metadata": {
        "colab": {
          "base_uri": "https://localhost:8080/",
          "height": 88
        },
        "id": "NIo0OJBu3lbT",
        "outputId": "97d3d9ff-02d3-4710-83a7-1c57e0ac9783"
      },
      "execution_count": 111,
      "outputs": [
        {
          "output_type": "display_data",
          "data": {
            "text/plain": [
              "40"
            ]
          },
          "metadata": {}
        },
        {
          "output_type": "execute_result",
          "data": {
            "text/plain": [
              "array([ 0,  1,  2,  3,  4,  5,  6,  7,  8,  9, 10, 11, 12, 13, 14, 15, 16,\n",
              "       17, 18, 19, 20, 21, 22, 23, 24, 25, 26, 27, 28, 29, 30, 31, 32, 33,\n",
              "       34, 35, 36, 37, 38, 39], dtype=int32)"
            ]
          },
          "metadata": {},
          "execution_count": 111
        }
      ]
    },
    {
      "cell_type": "code",
      "source": [
        "features, labels=next(iter(test_loader))"
      ],
      "metadata": {
        "id": "a-We9_qilUC1"
      },
      "execution_count": 112,
      "outputs": []
    },
    {
      "cell_type": "code",
      "source": [
        "ex1 = features[0]\n",
        "ex1 = torch.unsqueeze(ex1, 0)\n",
        "print('ex1:', ex1.shape)\n",
        "\n",
        "conv1 = nn.Conv2d(1, 60, kernel_size=5)\n",
        "ex2 = F.max_pool2d(conv1(ex1), 2)\n",
        "print('ex2:', ex2.shape)\n",
        "\n",
        "conv2 = nn.Conv2d(60, 120, kernel_size=5)\n",
        "ex3 = F.max_pool2d(conv2(ex2), 2)\n",
        "print('ex4:', ex3.shape)\n"
      ],
      "metadata": {
        "colab": {
          "base_uri": "https://localhost:8080/"
        },
        "id": "02-Dm9SNk59a",
        "outputId": "61c1c021-fbb8-4351-bd4b-d6dfc4110459"
      },
      "execution_count": 113,
      "outputs": [
        {
          "output_type": "stream",
          "name": "stdout",
          "text": [
            "ex1: torch.Size([1, 64, 64])\n",
            "ex2: torch.Size([60, 30, 30])\n",
            "ex4: torch.Size([120, 13, 13])\n"
          ]
        }
      ]
    },
    {
      "cell_type": "code",
      "source": [
        "class Net(nn.Module):\n",
        "    def __init__(self):\n",
        "        super(Net, self).__init__()\n",
        "        self.conv1 = nn.Conv2d(1, 30, kernel_size=5)\n",
        "        self.conv2 = nn.Conv2d(30, 64, kernel_size=5)\n",
        "        self.fc1 = nn.Linear(64*13*13, 60)\n",
        "        self.fc2 = nn.Linear(60, 50)\n",
        "        self.fc3 = nn.Linear(50, 40)\n",
        "\n",
        "    def forward(self, x):\n",
        "        x = F.max_pool2d(F.relu(self.conv1(x)), 2)\n",
        "        x = F.max_pool2d(F.relu(self.conv2(x)), 2)\n",
        "        x = x.view(-1, 64*13*13) \n",
        "        x = F.tanh(self.fc1(x)) \n",
        "        x = F.tanh(self.fc2(x)) \n",
        "        x = self.fc3(x) \n",
        "        return x\n",
        "  "
      ],
      "metadata": {
        "id": "c_pDtlEDgs2J"
      },
      "execution_count": 116,
      "outputs": []
    },
    {
      "cell_type": "code",
      "source": [
        "n_epoch = 20 + 1\n",
        "lr=0.05\n",
        "criterion = nn.CrossEntropyLoss()\n",
        "\n",
        "model = Net()\n",
        "optimizer = optim.Adam(model.parameters(), lr = lr)\n",
        "losses_list = []\n",
        "log_interval = 1\n",
        "\n",
        "for epoch in range(n_epoch): \n",
        "    running_loss = 0\n",
        "    for images, target in train_loader:\n",
        "        images = torch.unsqueeze(images, 1)\n",
        "        # images = images.view(images.shape[0], -1)\n",
        "        optimizer.zero_grad()\n",
        "        output = model.forward(images)\n",
        "        loss = criterion(output, target.to(torch.long))\n",
        "        loss.backward()\n",
        "        optimizer.step()\n",
        "        running_loss += loss.item()\n",
        "    losses = running_loss/len(train_loader)\n",
        "    if epoch % log_interval == 0:\n",
        "      print(\"Epoch: {}/{} |\".format(epoch, n_epoch),\n",
        "            \"Training loss: {:.3f}..\".format(losses))\n",
        "    losses_list.append(losses)\n",
        "print('Finished Training')"
      ],
      "metadata": {
        "colab": {
          "base_uri": "https://localhost:8080/"
        },
        "id": "PsrLUOaWgs8_",
        "outputId": "dbfdd94e-a475-43ea-e40b-1cb5106fbe19"
      },
      "execution_count": 117,
      "outputs": [
        {
          "output_type": "stream",
          "name": "stdout",
          "text": [
            "Epoch: 0/21 | Training loss: 4.409..\n",
            "Epoch: 1/21 | Training loss: 4.462..\n",
            "Epoch: 2/21 | Training loss: 4.338..\n",
            "Epoch: 3/21 | Training loss: 4.224..\n",
            "Epoch: 4/21 | Training loss: 4.113..\n",
            "Epoch: 5/21 | Training loss: 4.043..\n",
            "Epoch: 6/21 | Training loss: 4.092..\n",
            "Epoch: 7/21 | Training loss: 4.036..\n",
            "Epoch: 8/21 | Training loss: 4.012..\n",
            "Epoch: 9/21 | Training loss: 4.027..\n",
            "Epoch: 10/21 | Training loss: 4.062..\n",
            "Epoch: 11/21 | Training loss: 4.108..\n",
            "Epoch: 12/21 | Training loss: 4.108..\n",
            "Epoch: 13/21 | Training loss: 4.156..\n",
            "Epoch: 14/21 | Training loss: 4.122..\n",
            "Epoch: 15/21 | Training loss: 4.104..\n",
            "Epoch: 16/21 | Training loss: 4.078..\n",
            "Epoch: 17/21 | Training loss: 4.037..\n",
            "Epoch: 18/21 | Training loss: 4.051..\n",
            "Epoch: 19/21 | Training loss: 4.025..\n",
            "Epoch: 20/21 | Training loss: 3.994..\n",
            "Finished Training\n"
          ]
        }
      ]
    },
    {
      "cell_type": "code",
      "source": [
        "model.eval() # equivalent with self.train(False) \n",
        "test_loss = 0\n",
        "correct = 0\n",
        "true_list = []\n",
        "pred_list = []\n",
        "result_ = {}\n",
        "result_v = {}\n",
        "with torch.no_grad():\n",
        "    for images, target in train_loader:\n",
        "        images = torch.unsqueeze(images, 1)\n",
        "        output = model(images)\n",
        "        test_loss += criterion(output, target.to(torch.long))\n",
        "        _, pred = torch.max(output, 1)\n",
        "        # pred = output.argmax(dim=1, keepdim=True) # get the index of the max log-p \n",
        "        correct = pred.eq(target.view_as(pred))        \n",
        "        for i in range(20):\n",
        "            target_i = target[i].item()\n",
        "            try:\n",
        "              result_v[target_i] += 1\n",
        "            except:\n",
        "              result_v[target_i] = 1\n",
        "            try:\n",
        "              result_[target_i] += 1\n",
        "            except:\n",
        "              result_[target_i] = int(correct[i].item())\n",
        "        # correct += pred.eq(target.view_as(pred)).sum().item()\n",
        "        true_list += target.numpy().tolist()\n",
        "        pred_list += np.squeeze(pred.numpy()).tolist()\n",
        "\n",
        "test_loss /= len(test_loader.dataset)\n",
        "\n",
        "print(f'Avg. loss: {test_loss:.4f}')\n",
        "for i in range(40):\n",
        "    print(f'n{i} => {result_[i]/result_v[i]:.2f}({result_[i]}/{result_v[i]})')"
      ],
      "metadata": {
        "colab": {
          "base_uri": "https://localhost:8080/"
        },
        "id": "zQ3DBSdI8qzV",
        "outputId": "82f51aa5-4771-4e10-fe94-da09d454068f"
      },
      "execution_count": 134,
      "outputs": [
        {
          "output_type": "stream",
          "name": "stdout",
          "text": [
            "Avg. loss: 0.3332\n",
            "n0 => 0.67(2/3)\n",
            "n1 => 0.67(2/3)\n",
            "n2 => 0.75(3/4)\n",
            "n3 => 0.75(3/4)\n",
            "n4 => 0.75(3/4)\n",
            "n5 => 0.50(1/2)\n",
            "n6 => 0.50(1/2)\n",
            "n7 => 0.80(4/5)\n",
            "n8 => 0.00(0/1)\n",
            "n9 => 0.80(4/5)\n",
            "n10 => 0.67(2/3)\n",
            "n11 => 0.75(3/4)\n",
            "n12 => 0.67(2/3)\n",
            "n13 => 0.67(2/3)\n",
            "n14 => 0.67(2/3)\n",
            "n15 => 0.67(2/3)\n",
            "n16 => 0.80(4/5)\n",
            "n17 => 0.50(1/2)\n",
            "n18 => 0.00(0/1)\n",
            "n19 => 0.75(3/4)\n",
            "n20 => 0.80(4/5)\n",
            "n21 => 0.67(2/3)\n",
            "n22 => 0.83(5/6)\n",
            "n23 => 0.86(6/7)\n",
            "n24 => 0.67(2/3)\n",
            "n25 => 0.88(7/8)\n",
            "n26 => 0.75(3/4)\n",
            "n27 => 0.80(4/5)\n",
            "n28 => 0.75(3/4)\n",
            "n29 => 0.75(3/4)\n",
            "n30 => 0.00(0/1)\n",
            "n31 => 0.50(1/2)\n",
            "n32 => 0.50(1/2)\n",
            "n33 => 1.00(3/3)\n",
            "n34 => 0.00(0/1)\n",
            "n35 => 0.75(3/4)\n",
            "n36 => 0.67(2/3)\n",
            "n37 => 0.67(2/3)\n",
            "n38 => 0.75(3/4)\n",
            "n39 => 0.75(3/4)\n"
          ]
        }
      ]
    },
    {
      "cell_type": "markdown",
      "source": [
        "# Отчетность"
      ],
      "metadata": {
        "id": "8pk7rFZ4XikY"
      }
    },
    {
      "cell_type": "markdown",
      "source": [
        "В первую очередь в работе должна быть продемонстрирована ваша архитектура и процесс обучения (с кратким обоснованием выбора гиперпараметров).\n",
        "\n",
        "\n",
        "Далее:"
      ],
      "metadata": {
        "id": "6vwP3-cMYuBL"
      }
    },
    {
      "cell_type": "markdown",
      "source": [
        "(В конце вашего ноутбука укажите следующие данные)\n",
        "\n",
        "По задачам классификации:\n",
        "\n",
        "1.  Вывести метрики классификации на тестовом множестве: accuracy, precision, recall и f1-score(для бинарной) и метрик качества для каждого класса, в случае использования датасета с лицами.\n",
        "2.  Обосновать выбранное соотношение train/test на основе построения кривых обучения (или понятного вывода результатов эксперимента) \n",
        "\n"
      ],
      "metadata": {
        "id": "iEYMCaizXk5w"
      }
    },
    {
      "cell_type": "markdown",
      "source": [
        "По задаче регрессии:\n",
        "\n",
        "\n",
        "\n",
        "1.   Вывести коэффициент детерминации и средний квадрат ошибки\n",
        "2.   Продемнострировать, что выбрано оптимальное соотношение train/test, путем перебора всех содержательных вариантов.\n",
        "\n"
      ],
      "metadata": {
        "id": "jb45JczkYadi"
      }
    }
  ]
}