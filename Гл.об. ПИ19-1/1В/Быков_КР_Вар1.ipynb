{
 "cells": [
  {
   "cell_type": "code",
   "execution_count": 172,
   "id": "b784f3a5",
   "metadata": {
    "ExecuteTime": {
     "end_time": "2022-12-26T13:52:30.895427Z",
     "start_time": "2022-12-26T13:52:30.883562Z"
    }
   },
   "outputs": [],
   "source": [
    "import pandas as pd\n",
    "import numpy as np\n",
    "import torch\n",
    "\n",
    "from torch.utils.data import Dataset, DataLoader\n",
    "import torch.nn as nn\n",
    "\n",
    "from sklearn.model_selection import train_test_split"
   ]
  },
  {
   "cell_type": "markdown",
   "id": "0ba9b274",
   "metadata": {},
   "source": [
    "# Данные и датасет для обучения"
   ]
  },
  {
   "cell_type": "code",
   "execution_count": 173,
   "id": "4e2cae25",
   "metadata": {
    "ExecuteTime": {
     "end_time": "2022-12-26T13:52:31.220674Z",
     "start_time": "2022-12-26T13:52:31.196418Z"
    },
    "colab": {
     "base_uri": "https://localhost:8080/",
     "height": 250
    },
    "id": "lVAOUGrlW7FS",
    "outputId": "f420dca3-00f9-4d20-a298-89b512b6ef19"
   },
   "outputs": [
    {
     "data": {
      "text/html": [
       "<div>\n",
       "<style scoped>\n",
       "    .dataframe tbody tr th:only-of-type {\n",
       "        vertical-align: middle;\n",
       "    }\n",
       "\n",
       "    .dataframe tbody tr th {\n",
       "        vertical-align: top;\n",
       "    }\n",
       "\n",
       "    .dataframe thead th {\n",
       "        text-align: right;\n",
       "    }\n",
       "</style>\n",
       "<table border=\"1\" class=\"dataframe\">\n",
       "  <thead>\n",
       "    <tr style=\"text-align: right;\">\n",
       "      <th></th>\n",
       "      <th>Pregnancies</th>\n",
       "      <th>Glucose</th>\n",
       "      <th>BloodPressure</th>\n",
       "      <th>SkinThickness</th>\n",
       "      <th>Insulin</th>\n",
       "      <th>BMI</th>\n",
       "      <th>DiabetesPedigreeFunction</th>\n",
       "      <th>Age</th>\n",
       "      <th>Outcome</th>\n",
       "    </tr>\n",
       "  </thead>\n",
       "  <tbody>\n",
       "    <tr>\n",
       "      <th>0</th>\n",
       "      <td>6</td>\n",
       "      <td>148</td>\n",
       "      <td>72</td>\n",
       "      <td>35</td>\n",
       "      <td>0</td>\n",
       "      <td>33.6</td>\n",
       "      <td>0.627</td>\n",
       "      <td>50</td>\n",
       "      <td>1</td>\n",
       "    </tr>\n",
       "    <tr>\n",
       "      <th>1</th>\n",
       "      <td>1</td>\n",
       "      <td>85</td>\n",
       "      <td>66</td>\n",
       "      <td>29</td>\n",
       "      <td>0</td>\n",
       "      <td>26.6</td>\n",
       "      <td>0.351</td>\n",
       "      <td>31</td>\n",
       "      <td>0</td>\n",
       "    </tr>\n",
       "    <tr>\n",
       "      <th>2</th>\n",
       "      <td>8</td>\n",
       "      <td>183</td>\n",
       "      <td>64</td>\n",
       "      <td>0</td>\n",
       "      <td>0</td>\n",
       "      <td>23.3</td>\n",
       "      <td>0.672</td>\n",
       "      <td>32</td>\n",
       "      <td>1</td>\n",
       "    </tr>\n",
       "    <tr>\n",
       "      <th>3</th>\n",
       "      <td>1</td>\n",
       "      <td>89</td>\n",
       "      <td>66</td>\n",
       "      <td>23</td>\n",
       "      <td>94</td>\n",
       "      <td>28.1</td>\n",
       "      <td>0.167</td>\n",
       "      <td>21</td>\n",
       "      <td>0</td>\n",
       "    </tr>\n",
       "    <tr>\n",
       "      <th>4</th>\n",
       "      <td>0</td>\n",
       "      <td>137</td>\n",
       "      <td>40</td>\n",
       "      <td>35</td>\n",
       "      <td>168</td>\n",
       "      <td>43.1</td>\n",
       "      <td>2.288</td>\n",
       "      <td>33</td>\n",
       "      <td>1</td>\n",
       "    </tr>\n",
       "  </tbody>\n",
       "</table>\n",
       "</div>"
      ],
      "text/plain": [
       "   Pregnancies  Glucose  BloodPressure  SkinThickness  Insulin   BMI  \\\n",
       "0            6      148             72             35        0  33.6   \n",
       "1            1       85             66             29        0  26.6   \n",
       "2            8      183             64              0        0  23.3   \n",
       "3            1       89             66             23       94  28.1   \n",
       "4            0      137             40             35      168  43.1   \n",
       "\n",
       "   DiabetesPedigreeFunction  Age  Outcome  \n",
       "0                     0.627   50        1  \n",
       "1                     0.351   31        0  \n",
       "2                     0.672   32        1  \n",
       "3                     0.167   21        0  \n",
       "4                     2.288   33        1  "
      ]
     },
     "execution_count": 173,
     "metadata": {},
     "output_type": "execute_result"
    }
   ],
   "source": [
    "df = pd.read_csv('diabetes.csv')\n",
    "df.head()"
   ]
  },
  {
   "cell_type": "code",
   "execution_count": 174,
   "id": "72bb0a30",
   "metadata": {
    "ExecuteTime": {
     "end_time": "2022-12-26T13:52:31.321442Z",
     "start_time": "2022-12-26T13:52:31.312380Z"
    }
   },
   "outputs": [
    {
     "data": {
      "text/plain": [
       "(768, 9)"
      ]
     },
     "execution_count": 174,
     "metadata": {},
     "output_type": "execute_result"
    }
   ],
   "source": [
    "df.shape"
   ]
  },
  {
   "cell_type": "code",
   "execution_count": 175,
   "id": "576172dc",
   "metadata": {
    "ExecuteTime": {
     "end_time": "2022-12-26T13:52:31.672341Z",
     "start_time": "2022-12-26T13:52:31.658720Z"
    }
   },
   "outputs": [],
   "source": [
    "X_train, X_test, Y_train, Y_test = train_test_split(\n",
    "    df.drop(columns='Outcome'), \n",
    "    df['Outcome'], \n",
    "    stratify=df['Outcome'],\n",
    "    test_size=0.3, \n",
    "    random_state=1)"
   ]
  },
  {
   "cell_type": "code",
   "execution_count": 176,
   "id": "55ad2cfc",
   "metadata": {
    "ExecuteTime": {
     "end_time": "2022-12-26T13:52:31.860253Z",
     "start_time": "2022-12-26T13:52:31.847093Z"
    }
   },
   "outputs": [],
   "source": [
    "class Data(Dataset):\n",
    "    def __init__(self, X_train, y_train):\n",
    "        self.X = torch.from_numpy(X_train.astype(np.float32))\n",
    "        self.y = torch.from_numpy(y_train).type(torch.LongTensor)\n",
    "        self.len = self.X.shape[0]\n",
    "  \n",
    "    def __getitem__(self, index):\n",
    "        return self.X[index], self.y[index]\n",
    "    \n",
    "    def __len__(self):\n",
    "        return self.len"
   ]
  },
  {
   "cell_type": "code",
   "execution_count": 177,
   "id": "79c2dc78",
   "metadata": {
    "ExecuteTime": {
     "end_time": "2022-12-26T13:52:32.072813Z",
     "start_time": "2022-12-26T13:52:32.064978Z"
    }
   },
   "outputs": [],
   "source": [
    "traindata = Data(X_train.values, Y_train.values)"
   ]
  },
  {
   "cell_type": "code",
   "execution_count": 178,
   "id": "0188b667",
   "metadata": {
    "ExecuteTime": {
     "end_time": "2022-12-26T13:52:32.298545Z",
     "start_time": "2022-12-26T13:52:32.286240Z"
    }
   },
   "outputs": [
    {
     "name": "stdout",
     "output_type": "stream",
     "text": [
      "(tensor([ 1.0000, 95.0000, 60.0000, 18.0000, 58.0000, 23.9000,  0.2600, 22.0000]), tensor(0))\n"
     ]
    }
   ],
   "source": [
    "print(traindata[25])"
   ]
  },
  {
   "cell_type": "code",
   "execution_count": 179,
   "id": "8a9ac009",
   "metadata": {
    "ExecuteTime": {
     "end_time": "2022-12-26T13:52:32.472403Z",
     "start_time": "2022-12-26T13:52:32.463122Z"
    }
   },
   "outputs": [],
   "source": [
    "batch_size = 30\n",
    "trainloader = DataLoader(traindata, \n",
    "                         batch_size=batch_size, \n",
    "                         shuffle=True, \n",
    "                         num_workers=0)"
   ]
  },
  {
   "cell_type": "code",
   "execution_count": 180,
   "id": "e2817d34",
   "metadata": {
    "ExecuteTime": {
     "end_time": "2022-12-26T13:52:32.620932Z",
     "start_time": "2022-12-26T13:52:32.612566Z"
    }
   },
   "outputs": [],
   "source": [
    "testdata = Data(X_test.values, Y_test.values)\n",
    "testloader = DataLoader(testdata, batch_size=1, \n",
    "                        shuffle=True, num_workers=0)"
   ]
  },
  {
   "cell_type": "code",
   "execution_count": 181,
   "id": "3ca645fb",
   "metadata": {
    "ExecuteTime": {
     "end_time": "2022-12-26T13:52:33.020979Z",
     "start_time": "2022-12-26T13:52:33.007223Z"
    }
   },
   "outputs": [],
   "source": [
    "def get_test_accuracy_score(clf):\n",
    "    correct, total = 0, 0\n",
    "    with torch.no_grad():\n",
    "        for data in testloader:\n",
    "            inputs, labels = data\n",
    "            outputs = clf(inputs)\n",
    "            __, predicted = torch.max(outputs.data, 1)\n",
    "            total += labels.size(0)\n",
    "            correct += (predicted == labels).sum().item()\n",
    "            \n",
    "    return round(correct / total,2)"
   ]
  },
  {
   "cell_type": "markdown",
   "id": "75771dfe",
   "metadata": {},
   "source": [
    "# Обучение модели"
   ]
  },
  {
   "cell_type": "code",
   "execution_count": 182,
   "id": "b918dc5c",
   "metadata": {
    "ExecuteTime": {
     "end_time": "2022-12-26T13:52:33.759572Z",
     "start_time": "2022-12-26T13:52:33.743216Z"
    }
   },
   "outputs": [],
   "source": [
    "# кол-во фичей\n",
    "input_dim = 8\n",
    "# кол-во скрытых слоев\n",
    "hidden_layers = 25\n",
    "# кол-во классов таргета\n",
    "output_dim = 2\n",
    "\n",
    "class Network(nn.Module):\n",
    "    def __init__(self):\n",
    "        super(Network, self).__init__()\n",
    "        self.linear1 = nn.Linear(input_dim, hidden_layers)\n",
    "        self.linear2 = nn.Linear(hidden_layers, output_dim)\n",
    "    def forward(self, x):\n",
    "        x = torch.sigmoid(self.linear1(x))\n",
    "        x = self.linear2(x)\n",
    "        return x"
   ]
  },
  {
   "cell_type": "code",
   "execution_count": 188,
   "id": "e04ceb67",
   "metadata": {
    "ExecuteTime": {
     "end_time": "2022-12-26T13:52:49.946884Z",
     "start_time": "2022-12-26T13:52:49.930786Z"
    }
   },
   "outputs": [],
   "source": [
    "clf = Network()\n",
    "\n",
    "criterion = nn.CrossEntropyLoss()\n",
    "optimizer = torch.optim.SGD(clf.parameters(), lr=0.1)"
   ]
  },
  {
   "cell_type": "code",
   "execution_count": 189,
   "id": "de60e5bc",
   "metadata": {
    "ExecuteTime": {
     "end_time": "2022-12-26T13:52:51.075118Z",
     "start_time": "2022-12-26T13:52:50.132650Z"
    },
    "scrolled": true
   },
   "outputs": [
    {
     "name": "stdout",
     "output_type": "stream",
     "text": [
      "Epoch 1 | loss: 11.71 | accuracy on test: 0.65\n",
      "Epoch 6 | loss: 11.34 | accuracy on test: 0.66\n",
      "Epoch 11 | loss: 11.28 | accuracy on test: 0.65\n",
      "Epoch 16 | loss: 11.27 | accuracy on test: 0.65\n",
      "Epoch 21 | loss: 11.18 | accuracy on test: 0.64\n",
      "Epoch 26 | loss: 11.31 | accuracy on test: 0.64\n",
      "Epoch 31 | loss: 11.1 | accuracy on test: 0.63\n",
      "Epoch 36 | loss: 10.94 | accuracy on test: 0.64\n",
      "Epoch 41 | loss: 11.08 | accuracy on test: 0.63\n",
      "Epoch 46 | loss: 11.06 | accuracy on test: 0.62\n",
      "Epoch 51 | loss: 11.09 | accuracy on test: 0.64\n",
      "Epoch 56 | loss: 11.11 | accuracy on test: 0.62\n",
      "Epoch 61 | loss: 11.15 | accuracy on test: 0.63\n",
      "Epoch 66 | loss: 10.94 | accuracy on test: 0.65\n",
      "Epoch 71 | loss: 10.95 | accuracy on test: 0.63\n",
      "Epoch 76 | loss: 10.97 | accuracy on test: 0.61\n",
      "Epoch 81 | loss: 10.93 | accuracy on test: 0.63\n",
      "Epoch 86 | loss: 10.86 | accuracy on test: 0.64\n",
      "Epoch 91 | loss: 10.76 | accuracy on test: 0.63\n",
      "Epoch 96 | loss: 10.8 | accuracy on test: 0.65\n"
     ]
    }
   ],
   "source": [
    "epochs = 100\n",
    "for epoch in range(epochs):\n",
    "    running_loss = 0.0\n",
    "    for i, data in enumerate(trainloader, 0):\n",
    "        inputs, labels = data\n",
    "        # обнуляем градиент, чтобы удалить градиенты предыдущей эпохи\n",
    "        optimizer.zero_grad()\n",
    "        # forward propagation\n",
    "        outputs = clf(inputs)\n",
    "        loss = criterion(outputs, labels)\n",
    "        # backward propagation\n",
    "        loss.backward()\n",
    "        # optimize\n",
    "        optimizer.step()\n",
    "        running_loss += loss.item()\n",
    "        \n",
    "    if epoch % 5 == 0:\n",
    "        acc = get_test_accuracy_score(clf)\n",
    "        print(f'Epoch {epoch + 1} | loss: {round(running_loss, 2)} | accuracy on test: {acc}')\n",
    "        "
   ]
  },
  {
   "cell_type": "markdown",
   "id": "b83718ad",
   "metadata": {},
   "source": [
    "Видим, что модель быстро переобучается, поэтому меньше эпох"
   ]
  },
  {
   "cell_type": "code",
   "execution_count": 185,
   "id": "155ffaf6",
   "metadata": {
    "ExecuteTime": {
     "end_time": "2022-12-26T13:52:40.995485Z",
     "start_time": "2022-12-26T13:52:40.780520Z"
    }
   },
   "outputs": [
    {
     "name": "stdout",
     "output_type": "stream",
     "text": [
      "Epoch 1 | loss: 11.92 | accuracy on test: 0.64\n",
      "Epoch 6 | loss: 11.21 | accuracy on test: 0.62\n",
      "Epoch 11 | loss: 11.21 | accuracy on test: 0.62\n",
      "Epoch 16 | loss: 10.94 | accuracy on test: 0.61\n"
     ]
    }
   ],
   "source": [
    "clf = Network()\n",
    "\n",
    "criterion = nn.CrossEntropyLoss()\n",
    "optimizer = torch.optim.SGD(clf.parameters(), lr=0.1)\n",
    "\n",
    "epochs = 20\n",
    "for epoch in range(epochs):\n",
    "    running_loss = 0.0\n",
    "    for i, data in enumerate(trainloader, 0):\n",
    "        inputs, labels = data\n",
    "        # обнуляем градиент, чтобы удалить градиенты предыдущей эпохи\n",
    "        optimizer.zero_grad()\n",
    "        # forward propagation\n",
    "        outputs = clf(inputs)\n",
    "        loss = criterion(outputs, labels)\n",
    "        # backward propagation\n",
    "        loss.backward()\n",
    "        # optimize\n",
    "        optimizer.step()\n",
    "        running_loss += loss.item()\n",
    "        \n",
    "    if epoch % 5 == 0:\n",
    "        acc = get_test_accuracy_score(clf)\n",
    "        print(f'Epoch {epoch + 1} | loss: {round(running_loss, 2)} | accuracy on test: {acc}')\n",
    "        "
   ]
  },
  {
   "cell_type": "markdown",
   "id": "5168fccc",
   "metadata": {},
   "source": [
    "# Тестирование модели"
   ]
  },
  {
   "cell_type": "code",
   "execution_count": 190,
   "id": "62a844c3",
   "metadata": {
    "ExecuteTime": {
     "end_time": "2022-12-26T13:52:53.600293Z",
     "start_time": "2022-12-26T13:52:53.558449Z"
    }
   },
   "outputs": [],
   "source": [
    "TP = 0\n",
    "FP = 0\n",
    "FN = 0\n",
    "TN = 0\n",
    "with torch.no_grad():\n",
    "    for data in testloader:\n",
    "        inputs, labels = data\n",
    "        outputs = clf(inputs)\n",
    "        __, predicted = torch.max(outputs.data, 1)\n",
    "        \n",
    "        if predicted == 1:\n",
    "            if labels == 1:\n",
    "                TP += 1\n",
    "            else:\n",
    "                FP += 1\n",
    "        else:\n",
    "            if labels == 1:\n",
    "                FN += 1\n",
    "            else:\n",
    "                TN += 1"
   ]
  },
  {
   "cell_type": "code",
   "execution_count": 191,
   "id": "7b3eadce",
   "metadata": {
    "ExecuteTime": {
     "end_time": "2022-12-26T13:52:53.816116Z",
     "start_time": "2022-12-26T13:52:53.804913Z"
    }
   },
   "outputs": [
    {
     "name": "stdout",
     "output_type": "stream",
     "text": [
      "Accuracy: 0.65\n",
      "Precision: 0.56\n",
      "Recall: 0.06\n",
      "F-score: 0.11\n"
     ]
    }
   ],
   "source": [
    "accuracy = (TP+TN)/(TP+FP+FN+TN)\n",
    "precision = TP/(TP+FP)\n",
    "recall = TP/(TP+FN)\n",
    "f_score = 2*(precision*recall)/(precision+recall)\n",
    "\n",
    "print(f'Accuracy: {round(accuracy, 2)}')\n",
    "print(f'Precision: {round(precision, 2)}')\n",
    "print(f'Recall: {round(recall, 2)}')\n",
    "print(f'F-score: {round(f_score, 2)}')"
   ]
  },
  {
   "cell_type": "code",
   "execution_count": null,
   "id": "ce893919",
   "metadata": {},
   "outputs": [],
   "source": []
  },
  {
   "cell_type": "code",
   "execution_count": null,
   "id": "f2739356",
   "metadata": {},
   "outputs": [],
   "source": []
  },
  {
   "cell_type": "code",
   "execution_count": null,
   "id": "5e62e8fe",
   "metadata": {},
   "outputs": [],
   "source": []
  },
  {
   "cell_type": "code",
   "execution_count": null,
   "id": "79451a08",
   "metadata": {},
   "outputs": [],
   "source": []
  }
 ],
 "metadata": {
  "kernelspec": {
   "display_name": "elytsenv",
   "language": "python",
   "name": "elytsenv"
  },
  "language_info": {
   "codemirror_mode": {
    "name": "ipython",
    "version": 3
   },
   "file_extension": ".py",
   "mimetype": "text/x-python",
   "name": "python",
   "nbconvert_exporter": "python",
   "pygments_lexer": "ipython3",
   "version": "3.9.7"
  },
  "toc": {
   "base_numbering": 1,
   "nav_menu": {},
   "number_sections": true,
   "sideBar": true,
   "skip_h1_title": false,
   "title_cell": "Table of Contents",
   "title_sidebar": "Contents",
   "toc_cell": false,
   "toc_position": {},
   "toc_section_display": true,
   "toc_window_display": false
  }
 },
 "nbformat": 4,
 "nbformat_minor": 5
}
