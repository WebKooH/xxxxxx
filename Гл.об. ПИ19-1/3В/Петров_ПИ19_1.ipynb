{
  "nbformat": 4,
  "nbformat_minor": 0,
  "metadata": {
    "colab": {
      "provenance": []
    },
    "kernelspec": {
      "name": "python3",
      "display_name": "Python 3"
    },
    "language_info": {
      "name": "python"
    }
  },
  "cells": [
    {
      "cell_type": "markdown",
      "source": [
        "# Вариант 3"
      ],
      "metadata": {
        "id": "obCgPumOWasW"
      }
    },
    {
      "cell_type": "markdown",
      "source": [
        "Построить модель линейной регрессии на имеющихся данных"
      ],
      "metadata": {
        "id": "PH351YtZWdxZ"
      }
    },
    {
      "cell_type": "code",
      "source": [
        "import pandas as pd\n",
        "import numpy as np\n",
        "from sklearn.linear_model import LinearRegression\n",
        "import torch"
      ],
      "metadata": {
        "id": "gkiA-TZ-fQhC"
      },
      "execution_count": 231,
      "outputs": []
    },
    {
      "cell_type": "code",
      "source": [
        "from google.colab import drive\n",
        "drive.mount('/content/drive')"
      ],
      "metadata": {
        "colab": {
          "base_uri": "https://localhost:8080/"
        },
        "id": "MYttzoSMfaXv",
        "outputId": "4c9ae4b3-b503-4e17-d79e-656784b80a95"
      },
      "execution_count": null,
      "outputs": [
        {
          "output_type": "stream",
          "name": "stdout",
          "text": [
            "Drive already mounted at /content/drive; to attempt to forcibly remount, call drive.mount(\"/content/drive\", force_remount=True).\n"
          ]
        }
      ]
    },
    {
      "cell_type": "code",
      "source": [
        "import matplotlib.pyplot as plt\n",
        "\n",
        "df_x = pd.read_csv('drive/MyDrive/ML_2022/КР/x.csv')\n",
        "df_y = pd.read_csv('drive/MyDrive/ML_2022/КР/y.csv')\n",
        "\n",
        "df_x.head()"
      ],
      "metadata": {
        "colab": {
          "base_uri": "https://localhost:8080/",
          "height": 206
        },
        "id": "3soNuBdvWihK",
        "outputId": "d0660fc5-91ac-4585-d530-35436da02854"
      },
      "execution_count": 232,
      "outputs": [
        {
          "output_type": "execute_result",
          "data": {
            "text/plain": [
              "   Unnamed: 0         0\n",
              "0           0  1.462108\n",
              "1           1  1.133769\n",
              "2           2 -2.301539\n",
              "3           3  1.744812\n",
              "4           4  0.042214"
            ],
            "text/html": [
              "\n",
              "  <div id=\"df-37290448-01d1-423c-ab0d-86e0424e9991\">\n",
              "    <div class=\"colab-df-container\">\n",
              "      <div>\n",
              "<style scoped>\n",
              "    .dataframe tbody tr th:only-of-type {\n",
              "        vertical-align: middle;\n",
              "    }\n",
              "\n",
              "    .dataframe tbody tr th {\n",
              "        vertical-align: top;\n",
              "    }\n",
              "\n",
              "    .dataframe thead th {\n",
              "        text-align: right;\n",
              "    }\n",
              "</style>\n",
              "<table border=\"1\" class=\"dataframe\">\n",
              "  <thead>\n",
              "    <tr style=\"text-align: right;\">\n",
              "      <th></th>\n",
              "      <th>Unnamed: 0</th>\n",
              "      <th>0</th>\n",
              "    </tr>\n",
              "  </thead>\n",
              "  <tbody>\n",
              "    <tr>\n",
              "      <th>0</th>\n",
              "      <td>0</td>\n",
              "      <td>1.462108</td>\n",
              "    </tr>\n",
              "    <tr>\n",
              "      <th>1</th>\n",
              "      <td>1</td>\n",
              "      <td>1.133769</td>\n",
              "    </tr>\n",
              "    <tr>\n",
              "      <th>2</th>\n",
              "      <td>2</td>\n",
              "      <td>-2.301539</td>\n",
              "    </tr>\n",
              "    <tr>\n",
              "      <th>3</th>\n",
              "      <td>3</td>\n",
              "      <td>1.744812</td>\n",
              "    </tr>\n",
              "    <tr>\n",
              "      <th>4</th>\n",
              "      <td>4</td>\n",
              "      <td>0.042214</td>\n",
              "    </tr>\n",
              "  </tbody>\n",
              "</table>\n",
              "</div>\n",
              "      <button class=\"colab-df-convert\" onclick=\"convertToInteractive('df-37290448-01d1-423c-ab0d-86e0424e9991')\"\n",
              "              title=\"Convert this dataframe to an interactive table.\"\n",
              "              style=\"display:none;\">\n",
              "        \n",
              "  <svg xmlns=\"http://www.w3.org/2000/svg\" height=\"24px\"viewBox=\"0 0 24 24\"\n",
              "       width=\"24px\">\n",
              "    <path d=\"M0 0h24v24H0V0z\" fill=\"none\"/>\n",
              "    <path d=\"M18.56 5.44l.94 2.06.94-2.06 2.06-.94-2.06-.94-.94-2.06-.94 2.06-2.06.94zm-11 1L8.5 8.5l.94-2.06 2.06-.94-2.06-.94L8.5 2.5l-.94 2.06-2.06.94zm10 10l.94 2.06.94-2.06 2.06-.94-2.06-.94-.94-2.06-.94 2.06-2.06.94z\"/><path d=\"M17.41 7.96l-1.37-1.37c-.4-.4-.92-.59-1.43-.59-.52 0-1.04.2-1.43.59L10.3 9.45l-7.72 7.72c-.78.78-.78 2.05 0 2.83L4 21.41c.39.39.9.59 1.41.59.51 0 1.02-.2 1.41-.59l7.78-7.78 2.81-2.81c.8-.78.8-2.07 0-2.86zM5.41 20L4 18.59l7.72-7.72 1.47 1.35L5.41 20z\"/>\n",
              "  </svg>\n",
              "      </button>\n",
              "      \n",
              "  <style>\n",
              "    .colab-df-container {\n",
              "      display:flex;\n",
              "      flex-wrap:wrap;\n",
              "      gap: 12px;\n",
              "    }\n",
              "\n",
              "    .colab-df-convert {\n",
              "      background-color: #E8F0FE;\n",
              "      border: none;\n",
              "      border-radius: 50%;\n",
              "      cursor: pointer;\n",
              "      display: none;\n",
              "      fill: #1967D2;\n",
              "      height: 32px;\n",
              "      padding: 0 0 0 0;\n",
              "      width: 32px;\n",
              "    }\n",
              "\n",
              "    .colab-df-convert:hover {\n",
              "      background-color: #E2EBFA;\n",
              "      box-shadow: 0px 1px 2px rgba(60, 64, 67, 0.3), 0px 1px 3px 1px rgba(60, 64, 67, 0.15);\n",
              "      fill: #174EA6;\n",
              "    }\n",
              "\n",
              "    [theme=dark] .colab-df-convert {\n",
              "      background-color: #3B4455;\n",
              "      fill: #D2E3FC;\n",
              "    }\n",
              "\n",
              "    [theme=dark] .colab-df-convert:hover {\n",
              "      background-color: #434B5C;\n",
              "      box-shadow: 0px 1px 3px 1px rgba(0, 0, 0, 0.15);\n",
              "      filter: drop-shadow(0px 1px 2px rgba(0, 0, 0, 0.3));\n",
              "      fill: #FFFFFF;\n",
              "    }\n",
              "  </style>\n",
              "\n",
              "      <script>\n",
              "        const buttonEl =\n",
              "          document.querySelector('#df-37290448-01d1-423c-ab0d-86e0424e9991 button.colab-df-convert');\n",
              "        buttonEl.style.display =\n",
              "          google.colab.kernel.accessAllowed ? 'block' : 'none';\n",
              "\n",
              "        async function convertToInteractive(key) {\n",
              "          const element = document.querySelector('#df-37290448-01d1-423c-ab0d-86e0424e9991');\n",
              "          const dataTable =\n",
              "            await google.colab.kernel.invokeFunction('convertToInteractive',\n",
              "                                                     [key], {});\n",
              "          if (!dataTable) return;\n",
              "\n",
              "          const docLinkHtml = 'Like what you see? Visit the ' +\n",
              "            '<a target=\"_blank\" href=https://colab.research.google.com/notebooks/data_table.ipynb>data table notebook</a>'\n",
              "            + ' to learn more about interactive tables.';\n",
              "          element.innerHTML = '';\n",
              "          dataTable['output_type'] = 'display_data';\n",
              "          await google.colab.output.renderOutput(dataTable, element);\n",
              "          const docLink = document.createElement('div');\n",
              "          docLink.innerHTML = docLinkHtml;\n",
              "          element.appendChild(docLink);\n",
              "        }\n",
              "      </script>\n",
              "    </div>\n",
              "  </div>\n",
              "  "
            ]
          },
          "metadata": {},
          "execution_count": 232
        }
      ]
    },
    {
      "cell_type": "code",
      "source": [
        "df_x = df_x.rename({'Unnamed: 0': \"first\"}, axis=1)\n",
        "df_y = df_y.rename({'Unnamed: 0': \"first\"}, axis=1)\n",
        "\n",
        "res = pd.merge(df_x, df_y, on = 'first' ) # , on=0)"
      ],
      "metadata": {
        "id": "PddctnmwWlHJ"
      },
      "execution_count": 233,
      "outputs": []
    },
    {
      "cell_type": "code",
      "source": [
        "df_res = res.iloc[:, [1,2]]\n",
        "df_res.head()"
      ],
      "metadata": {
        "colab": {
          "base_uri": "https://localhost:8080/",
          "height": 206
        },
        "id": "COZHxgGfWwDp",
        "outputId": "74eb9434-509b-4a21-f5ca-85b2a66d785b"
      },
      "execution_count": 234,
      "outputs": [
        {
          "output_type": "execute_result",
          "data": {
            "text/plain": [
              "        0_x         0_y\n",
              "0  1.462108  101.159902\n",
              "1  1.133769   78.442913\n",
              "2 -2.301539 -159.238195\n",
              "3  1.744812  120.719533\n",
              "4  0.042214    2.920673"
            ],
            "text/html": [
              "\n",
              "  <div id=\"df-1c1c0baa-3136-4657-bc45-5985b100e67e\">\n",
              "    <div class=\"colab-df-container\">\n",
              "      <div>\n",
              "<style scoped>\n",
              "    .dataframe tbody tr th:only-of-type {\n",
              "        vertical-align: middle;\n",
              "    }\n",
              "\n",
              "    .dataframe tbody tr th {\n",
              "        vertical-align: top;\n",
              "    }\n",
              "\n",
              "    .dataframe thead th {\n",
              "        text-align: right;\n",
              "    }\n",
              "</style>\n",
              "<table border=\"1\" class=\"dataframe\">\n",
              "  <thead>\n",
              "    <tr style=\"text-align: right;\">\n",
              "      <th></th>\n",
              "      <th>0_x</th>\n",
              "      <th>0_y</th>\n",
              "    </tr>\n",
              "  </thead>\n",
              "  <tbody>\n",
              "    <tr>\n",
              "      <th>0</th>\n",
              "      <td>1.462108</td>\n",
              "      <td>101.159902</td>\n",
              "    </tr>\n",
              "    <tr>\n",
              "      <th>1</th>\n",
              "      <td>1.133769</td>\n",
              "      <td>78.442913</td>\n",
              "    </tr>\n",
              "    <tr>\n",
              "      <th>2</th>\n",
              "      <td>-2.301539</td>\n",
              "      <td>-159.238195</td>\n",
              "    </tr>\n",
              "    <tr>\n",
              "      <th>3</th>\n",
              "      <td>1.744812</td>\n",
              "      <td>120.719533</td>\n",
              "    </tr>\n",
              "    <tr>\n",
              "      <th>4</th>\n",
              "      <td>0.042214</td>\n",
              "      <td>2.920673</td>\n",
              "    </tr>\n",
              "  </tbody>\n",
              "</table>\n",
              "</div>\n",
              "      <button class=\"colab-df-convert\" onclick=\"convertToInteractive('df-1c1c0baa-3136-4657-bc45-5985b100e67e')\"\n",
              "              title=\"Convert this dataframe to an interactive table.\"\n",
              "              style=\"display:none;\">\n",
              "        \n",
              "  <svg xmlns=\"http://www.w3.org/2000/svg\" height=\"24px\"viewBox=\"0 0 24 24\"\n",
              "       width=\"24px\">\n",
              "    <path d=\"M0 0h24v24H0V0z\" fill=\"none\"/>\n",
              "    <path d=\"M18.56 5.44l.94 2.06.94-2.06 2.06-.94-2.06-.94-.94-2.06-.94 2.06-2.06.94zm-11 1L8.5 8.5l.94-2.06 2.06-.94-2.06-.94L8.5 2.5l-.94 2.06-2.06.94zm10 10l.94 2.06.94-2.06 2.06-.94-2.06-.94-.94-2.06-.94 2.06-2.06.94z\"/><path d=\"M17.41 7.96l-1.37-1.37c-.4-.4-.92-.59-1.43-.59-.52 0-1.04.2-1.43.59L10.3 9.45l-7.72 7.72c-.78.78-.78 2.05 0 2.83L4 21.41c.39.39.9.59 1.41.59.51 0 1.02-.2 1.41-.59l7.78-7.78 2.81-2.81c.8-.78.8-2.07 0-2.86zM5.41 20L4 18.59l7.72-7.72 1.47 1.35L5.41 20z\"/>\n",
              "  </svg>\n",
              "      </button>\n",
              "      \n",
              "  <style>\n",
              "    .colab-df-container {\n",
              "      display:flex;\n",
              "      flex-wrap:wrap;\n",
              "      gap: 12px;\n",
              "    }\n",
              "\n",
              "    .colab-df-convert {\n",
              "      background-color: #E8F0FE;\n",
              "      border: none;\n",
              "      border-radius: 50%;\n",
              "      cursor: pointer;\n",
              "      display: none;\n",
              "      fill: #1967D2;\n",
              "      height: 32px;\n",
              "      padding: 0 0 0 0;\n",
              "      width: 32px;\n",
              "    }\n",
              "\n",
              "    .colab-df-convert:hover {\n",
              "      background-color: #E2EBFA;\n",
              "      box-shadow: 0px 1px 2px rgba(60, 64, 67, 0.3), 0px 1px 3px 1px rgba(60, 64, 67, 0.15);\n",
              "      fill: #174EA6;\n",
              "    }\n",
              "\n",
              "    [theme=dark] .colab-df-convert {\n",
              "      background-color: #3B4455;\n",
              "      fill: #D2E3FC;\n",
              "    }\n",
              "\n",
              "    [theme=dark] .colab-df-convert:hover {\n",
              "      background-color: #434B5C;\n",
              "      box-shadow: 0px 1px 3px 1px rgba(0, 0, 0, 0.15);\n",
              "      filter: drop-shadow(0px 1px 2px rgba(0, 0, 0, 0.3));\n",
              "      fill: #FFFFFF;\n",
              "    }\n",
              "  </style>\n",
              "\n",
              "      <script>\n",
              "        const buttonEl =\n",
              "          document.querySelector('#df-1c1c0baa-3136-4657-bc45-5985b100e67e button.colab-df-convert');\n",
              "        buttonEl.style.display =\n",
              "          google.colab.kernel.accessAllowed ? 'block' : 'none';\n",
              "\n",
              "        async function convertToInteractive(key) {\n",
              "          const element = document.querySelector('#df-1c1c0baa-3136-4657-bc45-5985b100e67e');\n",
              "          const dataTable =\n",
              "            await google.colab.kernel.invokeFunction('convertToInteractive',\n",
              "                                                     [key], {});\n",
              "          if (!dataTable) return;\n",
              "\n",
              "          const docLinkHtml = 'Like what you see? Visit the ' +\n",
              "            '<a target=\"_blank\" href=https://colab.research.google.com/notebooks/data_table.ipynb>data table notebook</a>'\n",
              "            + ' to learn more about interactive tables.';\n",
              "          element.innerHTML = '';\n",
              "          dataTable['output_type'] = 'display_data';\n",
              "          await google.colab.output.renderOutput(dataTable, element);\n",
              "          const docLink = document.createElement('div');\n",
              "          docLink.innerHTML = docLinkHtml;\n",
              "          element.appendChild(docLink);\n",
              "        }\n",
              "      </script>\n",
              "    </div>\n",
              "  </div>\n",
              "  "
            ]
          },
          "metadata": {},
          "execution_count": 234
        }
      ]
    },
    {
      "cell_type": "markdown",
      "source": [
        "Зашумим входные данные"
      ],
      "metadata": {
        "id": "gNm48xpvXSNJ"
      }
    },
    {
      "cell_type": "code",
      "source": [
        "noise = np.random.randint(-100, 340, size=20) / 10\n",
        "df_res['0_y'] = df_res['0_y'] + noise"
      ],
      "metadata": {
        "colab": {
          "base_uri": "https://localhost:8080/"
        },
        "id": "UaKCFu4tXVx5",
        "outputId": "a2371792-bb5b-425e-947b-5a534cc54c29"
      },
      "execution_count": 235,
      "outputs": [
        {
          "output_type": "stream",
          "name": "stderr",
          "text": [
            "<ipython-input-235-aa757312d54a>:2: SettingWithCopyWarning: \n",
            "A value is trying to be set on a copy of a slice from a DataFrame.\n",
            "Try using .loc[row_indexer,col_indexer] = value instead\n",
            "\n",
            "See the caveats in the documentation: https://pandas.pydata.org/pandas-docs/stable/user_guide/indexing.html#returning-a-view-versus-a-copy\n",
            "  df_res['0_y'] = df_res['0_y'] + noise\n"
          ]
        }
      ]
    },
    {
      "cell_type": "code",
      "source": [
        "plt.figure()\n",
        "plt.scatter(df_res['0_x'], df_res['0_y'])\n",
        "plt.show()"
      ],
      "metadata": {
        "colab": {
          "base_uri": "https://localhost:8080/",
          "height": 265
        },
        "id": "ez0xoKK-XOjp",
        "outputId": "6078865c-1521-401b-88f5-4321b1cd2e56"
      },
      "execution_count": 236,
      "outputs": [
        {
          "output_type": "display_data",
          "data": {
            "text/plain": [
              "<Figure size 432x288 with 1 Axes>"
            ],
            "image/png": "[encoded data removed]"
          },
          "metadata": {
            "needs_background": "light"
          }
        }
      ]
    },
    {
      "cell_type": "code",
      "source": [
        "X = torch.tensor(df_res['0_x']).view(-1, 1)\n",
        "y = torch.tensor(df_res['0_y']).view(-1, 1)"
      ],
      "metadata": {
        "id": "etdyohSyDF6E"
      },
      "execution_count": 237,
      "outputs": []
    },
    {
      "cell_type": "code",
      "source": [
        "from sklearn.metrics import r2_score"
      ],
      "metadata": {
        "id": "cp2LqyYzDcn4"
      },
      "execution_count": 242,
      "outputs": []
    },
    {
      "cell_type": "code",
      "source": [
        "class Linear:\n",
        "  def __init__(self, n_features, n_neurons):\n",
        "    self.n_features = n_features\n",
        "    self.n_neurons = n_neurons\n",
        "    self.weights = torch.randn(n_neurons, n_features).T\n",
        "    self.biases = torch.randn(n_neurons)    \n",
        "  \n",
        "  def forward(self, inputs):\n",
        "    self.inputs = inputs\n",
        "    return inputs.float() @ self.weights.float() + self.biases.float()\n",
        "\n",
        "  def backward(self, dvalues):\n",
        "    self.dweights = self.inputs.T.float() @ dvalues.float()\n",
        "    self.dbiases = dvalues.mean()\n",
        "    self.dinputs = dvalues.float() @ self.weights.T.float()"
      ],
      "metadata": {
        "id": "NPbo9a0zDImK"
      },
      "execution_count": 272,
      "outputs": []
    },
    {
      "cell_type": "code",
      "source": [
        "class ReLU:\n",
        "  def forward(self, inputs):\n",
        "    self.inputs = inputs\n",
        "    self.output = inputs.clip(min=0)\n",
        "    return self.output\n",
        "  \n",
        "  def backward(self, dvalues):\n",
        "    self.dinputs = dvalues.clone()\n",
        "    self.dinputs[self.inputs <= 0] = 0"
      ],
      "metadata": {
        "id": "ltiQxZRkDNzK"
      },
      "execution_count": 273,
      "outputs": []
    },
    {
      "cell_type": "code",
      "source": [
        "class MSELoss:\n",
        "  def forward(self, y_pred, y_true):\n",
        "    return torch.mean((y_pred - y_true) ** 2)\n",
        "\n",
        "  def backward(self, y_pred, y_true):\n",
        "    self.dinput = 2 * (y_pred - y_true) / y_pred.shape[0]"
      ],
      "metadata": {
        "id": "I6ND0V-xDQpP"
      },
      "execution_count": 274,
      "outputs": []
    },
    {
      "cell_type": "code",
      "source": [
        "fc1 = Linear(X.shape[1], 10)\n",
        "relu1 = ReLU()\n",
        "fc2 = Linear(10, 1)\n",
        "loss = MSELoss()\n",
        "lr = 0.002\n",
        "\n",
        "ys = []\n",
        "r2=[]\n",
        "mse=[]"
      ],
      "metadata": {
        "id": "luafmF2LDX8J"
      },
      "execution_count": 275,
      "outputs": []
    },
    {
      "cell_type": "code",
      "source": [
        "for epoch in range(1000):\n",
        "    y_pred = fc2.forward(relu1.forward(fc1.forward(X)))\n",
        "    rm2 = r2_score(y, y_pred)\n",
        "    msem = (1/X.shape[1])*sum(y-y_pred)*2\n",
        "    mse.append(msem)\n",
        "    r2.append(rm2)\n",
        "    data_loss = loss.forward(y_pred, y)\n",
        "\n",
        "    if epoch % 50 == 0:\n",
        "        print(f'epoch {epoch} mean loss {data_loss}, \\nкоэф детерминации {rm2}, \\nR2 {float(msem)}\\n')\n",
        "        ys.append(y_pred)\n",
        "  \n",
        "    loss.backward(y_pred, y)\n",
        "    fc2.backward(loss.dinput)\n",
        "    relu1.backward(fc2.dinputs)\n",
        "    fc1.backward(relu1.dinputs) \n",
        "\n",
        "  # <шаг оптимизации для fc1>\n",
        "    fc1.weights -= lr * fc1.dweights\n",
        "    fc1.biases -= lr * fc1.dbiases\n",
        "\n",
        "  # <шаг оптимизации для fc2>\n",
        "    fc2.weights -= lr * fc2.dweights\n",
        "    fc2.biases -= lr * fc2.dbiases"
      ],
      "metadata": {
        "colab": {
          "base_uri": "https://localhost:8080/"
        },
        "id": "dPcmUXDVDT65",
        "outputId": "670a497c-0334-403f-fa3b-5bd83e58f20c"
      },
      "execution_count": 276,
      "outputs": [
        {
          "output_type": "stream",
          "name": "stdout",
          "text": [
            "epoch 0 mean loss 5888.061728066211, \n",
            "коэф детерминации 0.02886274107870268, \n",
            "R2 144.78527746530352\n",
            "\n",
            "epoch 50 mean loss 266.9011348160058, \n",
            "коэф детерминации 0.9559791237865765, \n",
            "R2 295.3551112207967\n",
            "\n",
            "epoch 100 mean loss 179.8501356640491, \n",
            "коэф детерминации 0.9703367294991367, \n",
            "R2 222.2828875574666\n",
            "\n",
            "epoch 150 mean loss 131.82356309969478, \n",
            "коэф детерминации 0.9782579090297817, \n",
            "R2 176.4309760126668\n",
            "\n",
            "epoch 200 mean loss 101.97779968123979, \n",
            "коэф детерминации 0.9831804683056898, \n",
            "R2 139.71156034799395\n",
            "\n",
            "epoch 250 mean loss 82.6671757208568, \n",
            "коэф детерминации 0.9863654326092325, \n",
            "R2 110.31510100694473\n",
            "\n",
            "epoch 300 mean loss 70.15133313437549, \n",
            "коэф детерминации 0.9884297114201337, \n",
            "R2 86.77342377038772\n",
            "\n",
            "epoch 350 mean loss 62.04509874135815, \n",
            "коэф детерминации 0.9897666991441387, \n",
            "R2 67.96741781564529\n",
            "\n",
            "epoch 400 mean loss 56.133776046552214, \n",
            "коэф детерминации 0.9907416729103051, \n",
            "R2 56.25700865121658\n",
            "\n",
            "epoch 450 mean loss 51.68849001294001, \n",
            "коэф детерминации 0.9914748484599476, \n",
            "R2 47.10831985803421\n",
            "\n",
            "epoch 500 mean loss 48.36172898200299, \n",
            "коэф детерминации 0.992023542026333, \n",
            "R2 39.409419873674466\n",
            "\n",
            "epoch 550 mean loss 45.88384511153263, \n",
            "коэф детерминации 0.9924322275090995, \n",
            "R2 32.864225009401395\n",
            "\n",
            "epoch 600 mean loss 44.04429422892442, \n",
            "коэф детерминации 0.9927356306465475, \n",
            "R2 27.311967471559594\n",
            "\n",
            "epoch 650 mean loss 42.68074998120791, \n",
            "коэф детерминации 0.9929605244544425, \n",
            "R2 22.618264773805688\n",
            "\n",
            "epoch 700 mean loss 41.66985488428778, \n",
            "коэф детерминации 0.9931272546856832, \n",
            "R2 18.661846497972558\n",
            "\n",
            "epoch 750 mean loss 40.918860656420655, \n",
            "коэф детерминации 0.9932511186174148, \n",
            "R2 15.334173778017114\n",
            "\n",
            "epoch 800 mean loss 40.35873419946836, \n",
            "коэф детерминации 0.9933435021040655, \n",
            "R2 12.53953705163772\n",
            "\n",
            "epoch 850 mean loss 39.93846609051513, \n",
            "коэф детерминации 0.9934128182964206, \n",
            "R2 10.194999316652368\n",
            "\n",
            "epoch 900 mean loss 39.620527418344544, \n",
            "коэф детерминации 0.9934652569604252, \n",
            "R2 8.229940513094018\n",
            "\n",
            "epoch 950 mean loss 39.37750043888241, \n",
            "коэф детерминации 0.9935053401941919, \n",
            "R2 6.583514789064477\n",
            "\n"
          ]
        }
      ]
    },
    {
      "cell_type": "markdown",
      "source": [
        "# Отчетность"
      ],
      "metadata": {
        "id": "8pk7rFZ4XikY"
      }
    },
    {
      "cell_type": "markdown",
      "source": [
        "В первую очередь в работе должна быть продемонстрирована ваша архитектура и процесс обучения (с кратким обоснованием выбора гиперпараметров).\n",
        "\n",
        "\n",
        "Далее:"
      ],
      "metadata": {
        "id": "6vwP3-cMYuBL"
      }
    },
    {
      "cell_type": "markdown",
      "source": [
        "(В конце вашего ноутбука укажите следующие данные)\n",
        "\n",
        "По задачам классификации:\n",
        "\n",
        "1.  Вывести метрики классификации на тестовом множестве: accuracy, precision, recall и f1-score(для бинарной) и метрик качества для каждого класса, в случае использования датасета с лицами.\n",
        "2.  Обосновать выбранное соотношение train/test на основе построения кривых обучения (или понятного вывода результатов эксперимента) \n",
        "\n"
      ],
      "metadata": {
        "id": "iEYMCaizXk5w"
      }
    },
    {
      "cell_type": "markdown",
      "source": [
        "По задаче регрессии:\n",
        "\n",
        "\n",
        "\n",
        "1.   Вывести коэффициент детерминации и средний квадрат ошибки\n",
        "2.   Продемнострировать, что выбрано оптимальное соотношение train/test, путем перебора всех содержательных вариантов.\n",
        "\n"
      ],
      "metadata": {
        "id": "jb45JczkYadi"
      }
    }
  ]
}